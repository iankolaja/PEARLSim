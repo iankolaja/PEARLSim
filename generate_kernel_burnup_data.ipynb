{
 "cells": [
  {
   "cell_type": "code",
   "execution_count": 1,
   "id": "fe221dc9",
   "metadata": {},
   "outputs": [],
   "source": [
    "import pandas as pd"
   ]
  },
  {
   "cell_type": "code",
   "execution_count": 2,
   "id": "a251504f",
   "metadata": {},
   "outputs": [],
   "source": [
    "current_data = pd.read_csv(\"training_data/current_target.csv\", index_col=0)"
   ]
  },
  {
   "cell_type": "code",
   "execution_count": 4,
   "id": "d72c8a30",
   "metadata": {},
   "outputs": [
    {
     "data": {
      "text/plain": [
       "0.0           2.990610e+13\n",
       "3e-08         1.509400e+14\n",
       "5.8e-08       5.712310e+14\n",
       "1.4e-07       1.109120e+15\n",
       "2.8e-07       2.100110e+14\n",
       "3.5e-07       1.802850e+14\n",
       "6.25e-07      5.434490e+14\n",
       "4e-06         7.206980e+14\n",
       "4.8052e-05    1.171560e+15\n",
       "0.00553       1.533240e+15\n",
       "0.821         2.412640e+14\n",
       "2.231         1.193780e+14\n",
       "Name: 0, dtype: float64"
      ]
     },
     "execution_count": 4,
     "metadata": {},
     "output_type": "execute_result"
    }
   ],
   "source": []
  },
  {
   "cell_type": "code",
   "execution_count": null,
   "id": "a96ce4f5",
   "metadata": {},
   "outputs": [],
   "source": []
  }
 ],
 "metadata": {
  "kernelspec": {
   "display_name": "Python 3 (ipykernel)",
   "language": "python",
   "name": "python3"
  },
  "language_info": {
   "codemirror_mode": {
    "name": "ipython",
    "version": 3
   },
   "file_extension": ".py",
   "mimetype": "text/x-python",
   "name": "python",
   "nbconvert_exporter": "python",
   "pygments_lexer": "ipython3",
   "version": "3.10.9"
  }
 },
 "nbformat": 4,
 "nbformat_minor": 5
}
